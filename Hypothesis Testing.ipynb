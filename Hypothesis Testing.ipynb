{
 "cells": [
  {
   "cell_type": "code",
   "execution_count": 91,
   "id": "5109f827-1f9a-41cb-88a5-d19d68461696",
   "metadata": {
    "tags": []
   },
   "outputs": [],
   "source": [
    "import numpy as np\n",
    "import pandas as pd\n",
    "import scipy.stats as stats\n",
    "import matplotlib.pyplot as plt\n",
    "import seaborn as sns\n",
    "import math\n",
    "import statistics\n",
    "\n",
    "%matplotlib inline"
   ]
  },
  {
   "cell_type": "markdown",
   "id": "a0f719a6-0499-4a11-ad95-6300f52cce3b",
   "metadata": {},
   "source": [
    "1. It is assumed that the mean systolic blood pressure is μ = 120 mm Hg. In the Honolulu Heart Study, a sample of n = 100 people had an average systolic blood pressure of 130.1 mm Hg with a standard deviation of 21.21 mm Hg. Is the group significantly different (with respect to systolic blood pressure!) from the regular population?\n",
    "\n",
    "- Set up the hypothesis test.\n",
    "- Write down all the steps followed for setting up the test.\n",
    "- Calculate the test statistic by hand and also code it in Python. It should be 4.76190. What decision can you make based on this calculated value?"
   ]
  },
  {
   "cell_type": "markdown",
   "id": "9f4c5b55-2935-4218-a042-b778edca7091",
   "metadata": {},
   "source": [
    "H0: mu = 120\n",
    "H1: mu != 120"
   ]
  },
  {
   "cell_type": "code",
   "execution_count": 92,
   "id": "4721a932-faf4-4d95-b46a-c19e03ad3501",
   "metadata": {
    "tags": []
   },
   "outputs": [
    {
     "data": {
      "text/plain": [
       "2.121"
      ]
     },
     "execution_count": 92,
     "metadata": {},
     "output_type": "execute_result"
    }
   ],
   "source": [
    "# population mean\n",
    "pop_mean = 120\n",
    "# sample_size\n",
    "sample_size = 100\n",
    "# The mean of our sample, however, is:\n",
    "sample_mean = 130.1\n",
    "# standard deviation of Sample\n",
    "sample_std = 21.21\n",
    "# Let's compute the standard error:\n",
    "sem = sample_std / math.sqrt(sample_size)\n",
    "sem"
   ]
  },
  {
   "cell_type": "code",
   "execution_count": 93,
   "id": "ec24194f-d3f1-440f-949c-0101df5b0739",
   "metadata": {
    "tags": []
   },
   "outputs": [
    {
     "name": "stdout",
     "output_type": "stream",
     "text": [
      "The z score of our sample is: 4.76\n"
     ]
    }
   ],
   "source": [
    "# Calculate the z score\n",
    "z = (sample_mean-pop_mean)/sem\n",
    "print(\"The z score of our sample is: {:.2f}\".format(z))"
   ]
  },
  {
   "cell_type": "code",
   "execution_count": 94,
   "id": "d32d066a-baf7-467e-88f7-26c12d7ec115",
   "metadata": {
    "tags": []
   },
   "outputs": [
    {
     "name": "stdout",
     "output_type": "stream",
     "text": [
      "The critical value corresponding to a 0.95 area of a normal distribution is: 1.98 and -1.98\n"
     ]
    }
   ],
   "source": [
    "# calculate the critical Value\n",
    "zc = stats.t.ppf(1-0.05/2, df=99) # 0.95 is the confidence level.\n",
    "print(\"The critical value corresponding to a 0.95 area of a normal distribution is: {:.2f} and -{:.2f}\".format(zc, zc))"
   ]
  },
  {
   "cell_type": "code",
   "execution_count": 95,
   "id": "60c8db08-c5d5-43b5-9d49-8b1118058c11",
   "metadata": {
    "tags": []
   },
   "outputs": [
    {
     "name": "stdout",
     "output_type": "stream",
     "text": [
      "The critical value corresponding to a 0.95 area of a normal distribution is: 2.08 and -2.08\n"
     ]
    }
   ],
   "source": [
    "zc = stats.t.ppf(0.98,df=99)\n",
    "print(\"The critical value corresponding to a 0.95 area of a normal distribution is: {:.2f} and -{:.2f}\".format(zc, zc))"
   ]
  },
  {
   "cell_type": "code",
   "execution_count": 96,
   "id": "75205e15-0de6-495d-b0c4-6ecd777cb66a",
   "metadata": {
    "tags": []
   },
   "outputs": [
    {
     "name": "stdout",
     "output_type": "stream",
     "text": [
      "The critical value corresponding to a 0.95 area of a normal distribution is: 3.17 and -3.17\n"
     ]
    }
   ],
   "source": [
    "zc = stats.t.ppf(0.999,df=99)\n",
    "print(\"The critical value corresponding to a 0.95 area of a normal distribution is: {:.2f} and -{:.2f}\".format(zc, zc))"
   ]
  },
  {
   "cell_type": "code",
   "execution_count": 97,
   "id": "329f090c-8aad-4cc5-a1f2-225b7592f12b",
   "metadata": {
    "tags": []
   },
   "outputs": [
    {
     "name": "stdout",
     "output_type": "stream",
     "text": [
      "3.2813509086043083e-06\n"
     ]
    }
   ],
   "source": [
    "p_value = stats.t.sf(z, df=99)\n",
    "print(p_value)"
   ]
  },
  {
   "cell_type": "code",
   "execution_count": null,
   "id": "ea00a788-0cb1-416b-a213-84c836e1f461",
   "metadata": {},
   "outputs": [],
   "source": []
  },
  {
   "cell_type": "markdown",
   "id": "6ea39f65-0f0e-4350-83be-9bb54990a26f",
   "metadata": {},
   "source": [
    "In all cases we would reject the H0 hypothesies"
   ]
  },
  {
   "cell_type": "markdown",
   "id": "0a96a0ac-3d25-4ea2-a7b6-fcd760bfa4fa",
   "metadata": {},
   "source": [
    "The group is significantly different from the regular population"
   ]
  },
  {
   "cell_type": "code",
   "execution_count": null,
   "id": "8d088084-bc41-419f-a896-4a98f76425a6",
   "metadata": {},
   "outputs": [],
   "source": []
  },
  {
   "cell_type": "markdown",
   "id": "65c1637f-ad83-42c8-94bf-c75f48bbaf8c",
   "metadata": {},
   "source": [
    "2. In a packing plant, a machine packs cartons with jars. It is supposed that a new machine will pack faster on the average than the machine currently used. To test that hypothesis, the times it takes each machine to pack ten cartons are recorded. The results, in seconds, are shown in the tables in the file Data/machine.txt. Assume that there is sufficient evidence to conduct the t test, does the data provide sufficient evidence to show if one machine is better than the other."
   ]
  },
  {
   "cell_type": "code",
   "execution_count": 98,
   "id": "2ce17085-db88-4ecd-a61e-73f29ba81944",
   "metadata": {},
   "outputs": [],
   "source": [
    "import pandas as pd\n",
    "\n",
    "# Creating a DataFrame from your data\n",
    "data = {\n",
    "    'New Machine': [42.1, 41, 41.3, 41.8, 42.4, 42.8, 43.2, 42.3, 41.8, 42.7],\n",
    "    'Old Machine': [42.7, 43.6, 43.8, 43.3, 42.5, 43.5, 43.1, 41.7, 44, 44.1]\n",
    "}\n",
    "\n",
    "df = pd.DataFrame(data)\n",
    "\n",
    "combined_data = data['New Machine'] + data['Old Machine']"
   ]
  },
  {
   "cell_type": "code",
   "execution_count": 99,
   "id": "141e8667-8c19-4269-9747-c393b2b3f8ee",
   "metadata": {},
   "outputs": [
    {
     "data": {
      "text/plain": [
       "0.21612753436596469"
      ]
     },
     "execution_count": 99,
     "metadata": {},
     "output_type": "execute_result"
    }
   ],
   "source": [
    "# population mean\n",
    "pop_mean = sum(combined_data) / len(combined_data)\n",
    "# sample_size\n",
    "sample_size = len(data['New Machine'])\n",
    "# The mean of our sample, however, is:\n",
    "sample_mean = df['New Machine'].mean()\n",
    "# standard deviation of Sample\n",
    "sample_std = statistics.stdev(data['New Machine'])\n",
    "# Let's compute the standard error:\n",
    "sem = sample_std / math.sqrt(sample_size)\n",
    "sem"
   ]
  },
  {
   "cell_type": "code",
   "execution_count": 100,
   "id": "be944f76-fe4f-400b-833d-06c3572fac2a",
   "metadata": {},
   "outputs": [
    {
     "name": "stdout",
     "output_type": "stream",
     "text": [
      "The z score of our sample is: -2.52\n"
     ]
    }
   ],
   "source": [
    "# Calculate the z score\n",
    "z = (sample_mean-pop_mean)/sem\n",
    "print(\"The z score of our sample is: {:.2f}\".format(z))"
   ]
  },
  {
   "cell_type": "code",
   "execution_count": 101,
   "id": "85ad3fdc-d65f-40c5-af2a-a7dcf0aae824",
   "metadata": {
    "tags": []
   },
   "outputs": [
    {
     "name": "stdout",
     "output_type": "stream",
     "text": [
      "The critical value corresponding to a 0.95 area of a t distribution is: 2.26 and -2.26\n"
     ]
    }
   ],
   "source": [
    "# calculate the critical Value\n",
    "zc = stats.t.ppf(1-0.05/2, df=9) # 0.95 is the confidence level.\n",
    "print(\"The critical value corresponding to a 0.95 area of a t distribution is: {:.2f} and -{:.2f}\".format(zc, zc))"
   ]
  },
  {
   "cell_type": "code",
   "execution_count": 103,
   "id": "86e9ecbd-2bb2-4c5c-ad08-dae95f2612dc",
   "metadata": {},
   "outputs": [
    {
     "name": "stdout",
     "output_type": "stream",
     "text": [
      "0.016384325153923518\n"
     ]
    }
   ],
   "source": [
    "p_value = stats.t.sf(2.52, df=9)\n",
    "print(p_value)"
   ]
  },
  {
   "cell_type": "code",
   "execution_count": null,
   "id": "54ef4efc-a2d9-4971-8b49-426615143f09",
   "metadata": {},
   "outputs": [],
   "source": []
  }
 ],
 "metadata": {
  "kernelspec": {
   "display_name": "Python 3 (ipykernel)",
   "language": "python",
   "name": "python3"
  },
  "language_info": {
   "codemirror_mode": {
    "name": "ipython",
    "version": 3
   },
   "file_extension": ".py",
   "mimetype": "text/x-python",
   "name": "python",
   "nbconvert_exporter": "python",
   "pygments_lexer": "ipython3",
   "version": "3.11.5"
  }
 },
 "nbformat": 4,
 "nbformat_minor": 5
}
