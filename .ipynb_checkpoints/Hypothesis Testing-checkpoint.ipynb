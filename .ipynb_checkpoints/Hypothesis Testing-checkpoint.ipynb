{
 "cells": [
  {
   "cell_type": "code",
   "execution_count": 2,
   "id": "5109f827-1f9a-41cb-88a5-d19d68461696",
   "metadata": {
    "tags": []
   },
   "outputs": [],
   "source": [
    "import numpy as np\n",
    "import pandas as pd\n",
    "import scipy.stats as stats\n",
    "import matplotlib.pyplot as plt\n",
    "import seaborn as sns\n",
    "import math\n",
    "\n",
    "%matplotlib inline"
   ]
  },
  {
   "cell_type": "markdown",
   "id": "a0f719a6-0499-4a11-ad95-6300f52cce3b",
   "metadata": {},
   "source": [
    "1. It is assumed that the mean systolic blood pressure is μ = 120 mm Hg. In the Honolulu Heart Study, a sample of n = 100 people had an average systolic blood pressure of 130.1 mm Hg with a standard deviation of 21.21 mm Hg. Is the group significantly different (with respect to systolic blood pressure!) from the regular population?\n",
    "\n",
    "- Set up the hypothesis test.\n",
    "- Write down all the steps followed for setting up the test.\n",
    "- Calculate the test statistic by hand and also code it in Python. It should be 4.76190. What decision can you make based on this calculated value?"
   ]
  },
  {
   "cell_type": "markdown",
   "id": "9f4c5b55-2935-4218-a042-b778edca7091",
   "metadata": {},
   "source": [
    "H0: mu = 120\n",
    "H1: mu != 120"
   ]
  },
  {
   "cell_type": "code",
   "execution_count": 4,
   "id": "4721a932-faf4-4d95-b46a-c19e03ad3501",
   "metadata": {
    "tags": []
   },
   "outputs": [
    {
     "data": {
      "text/plain": [
       "2.121"
      ]
     },
     "execution_count": 4,
     "metadata": {},
     "output_type": "execute_result"
    }
   ],
   "source": [
    "# population mean\n",
    "pop_mean = 120\n",
    "# sample_size\n",
    "sample_size = 100\n",
    "# The mean of our sample, however, is:\n",
    "sample_mean = 130.1\n",
    "# standard deviation of Sample\n",
    "sample_std = 21.21\n",
    "# Let's compute the standard error:\n",
    "sem = sample_std / math.sqrt(sample_size)\n",
    "sem"
   ]
  },
  {
   "cell_type": "code",
   "execution_count": 5,
   "id": "ec24194f-d3f1-440f-949c-0101df5b0739",
   "metadata": {
    "tags": []
   },
   "outputs": [
    {
     "name": "stdout",
     "output_type": "stream",
     "text": [
      "The z score of our sample is: 4.76\n"
     ]
    }
   ],
   "source": [
    "# Calculate the z score\n",
    "z = (sample_mean-pop_mean)/sem\n",
    "print(\"The z score of our sample is: {:.2f}\".format(z))"
   ]
  },
  {
   "cell_type": "code",
   "execution_count": 8,
   "id": "d32d066a-baf7-467e-88f7-26c12d7ec115",
   "metadata": {
    "tags": []
   },
   "outputs": [
    {
     "name": "stdout",
     "output_type": "stream",
     "text": [
      "The critical value corresponding to a 0.95 area of a normal distribution is: 1.96 and -1.96\n"
     ]
    }
   ],
   "source": [
    "# calculate the critical Value\n",
    "zc = stats.norm.ppf(1-0.05/2) # 0.95 is the confidence level.\n",
    "print(\"The critical value corresponding to a 0.95 area of a normal distribution is: {:.2f} and -{:.2f}\".format(zc, zc))"
   ]
  },
  {
   "cell_type": "code",
   "execution_count": 9,
   "id": "60c8db08-c5d5-43b5-9d49-8b1118058c11",
   "metadata": {
    "tags": []
   },
   "outputs": [
    {
     "name": "stdout",
     "output_type": "stream",
     "text": [
      "The critical value corresponding to a 0.95 area of a normal distribution is: 2.05 and -2.05\n"
     ]
    }
   ],
   "source": [
    "zc = stats.norm.ppf(0.98)\n",
    "print(\"The critical value corresponding to a 0.95 area of a normal distribution is: {:.2f} and -{:.2f}\".format(zc, zc))"
   ]
  },
  {
   "cell_type": "code",
   "execution_count": 10,
   "id": "75205e15-0de6-495d-b0c4-6ecd777cb66a",
   "metadata": {
    "tags": []
   },
   "outputs": [
    {
     "name": "stdout",
     "output_type": "stream",
     "text": [
      "The critical value corresponding to a 0.95 area of a normal distribution is: 3.09 and -3.09\n"
     ]
    }
   ],
   "source": [
    "zc = stats.norm.ppf(0.999)\n",
    "print(\"The critical value corresponding to a 0.95 area of a normal distribution is: {:.2f} and -{:.2f}\".format(zc, zc))"
   ]
  },
  {
   "cell_type": "code",
   "execution_count": null,
   "id": "ea00a788-0cb1-416b-a213-84c836e1f461",
   "metadata": {},
   "outputs": [],
   "source": []
  },
  {
   "cell_type": "markdown",
   "id": "6ea39f65-0f0e-4350-83be-9bb54990a26f",
   "metadata": {},
   "source": [
    "In all cases we would reject the H0 hypothesies"
   ]
  },
  {
   "cell_type": "markdown",
   "id": "0a96a0ac-3d25-4ea2-a7b6-fcd760bfa4fa",
   "metadata": {},
   "source": [
    "The group is significantly different from the regular population"
   ]
  }
 ],
 "metadata": {
  "kernelspec": {
   "display_name": "Python 3 (ipykernel)",
   "language": "python",
   "name": "python3"
  },
  "language_info": {
   "codemirror_mode": {
    "name": "ipython",
    "version": 3
   },
   "file_extension": ".py",
   "mimetype": "text/x-python",
   "name": "python",
   "nbconvert_exporter": "python",
   "pygments_lexer": "ipython3",
   "version": "3.11.5"
  }
 },
 "nbformat": 4,
 "nbformat_minor": 5
}
